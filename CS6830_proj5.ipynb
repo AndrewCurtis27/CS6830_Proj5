{
 "cells": [
  {
   "cell_type": "code",
   "execution_count": 2,
   "id": "4f308279-2e2d-493c-b3a6-ae6607b6e2d2",
   "metadata": {
    "collapsed": true,
    "jupyter": {
     "outputs_hidden": true
    },
    "tags": []
   },
   "outputs": [
    {
     "name": "stdout",
     "output_type": "stream",
     "text": [
      "Requirement already satisfied: pycaret in c:\\users\\arist\\anaconda3\\lib\\site-packages (3.0.0rc9)\n",
      "Requirement already satisfied: requests>=2.27.1 in c:\\users\\arist\\anaconda3\\lib\\site-packages (from pycaret) (2.27.1)\n",
      "Requirement already satisfied: schemdraw>=0.14 in c:\\users\\arist\\anaconda3\\lib\\site-packages (from pycaret) (0.15)\n",
      "Requirement already satisfied: xxhash in c:\\users\\arist\\anaconda3\\lib\\site-packages (from pycaret) (3.2.0)\n",
      "Requirement already satisfied: markupsafe>=2.0.1 in c:\\users\\arist\\anaconda3\\lib\\site-packages (from pycaret) (2.0.1)\n",
      "Requirement already satisfied: psutil>=5.9.0 in c:\\users\\arist\\anaconda3\\lib\\site-packages (from pycaret) (5.9.4)\n",
      "Requirement already satisfied: joblib>=1.2.0 in c:\\users\\arist\\anaconda3\\lib\\site-packages (from pycaret) (1.2.0)\n",
      "Requirement already satisfied: tqdm>=4.62.0 in c:\\users\\arist\\anaconda3\\lib\\site-packages (from pycaret) (4.64.0)\n",
      "Requirement already satisfied: ipywidgets>=7.6.5 in c:\\users\\arist\\anaconda3\\lib\\site-packages (from pycaret) (7.6.5)\n",
      "Requirement already satisfied: pmdarima!=1.8.1,<3.0.0,>=1.8.0 in c:\\users\\arist\\anaconda3\\lib\\site-packages (from pycaret) (2.0.2)\n",
      "Requirement already satisfied: statsmodels>=0.12.1 in c:\\users\\arist\\anaconda3\\lib\\site-packages (from pycaret) (0.13.2)\n",
      "Requirement already satisfied: scikit-learn>=1.0 in c:\\users\\arist\\anaconda3\\lib\\site-packages (from pycaret) (1.0.2)\n",
      "Requirement already satisfied: lightgbm>=3.0.0 in c:\\users\\arist\\anaconda3\\lib\\site-packages (from pycaret) (3.3.5)\n",
      "Requirement already satisfied: yellowbrick>=1.4 in c:\\users\\arist\\anaconda3\\lib\\site-packages (from pycaret) (1.5)\n",
      "Requirement already satisfied: pandas<1.6.0,>=1.3.0 in c:\\users\\arist\\anaconda3\\lib\\site-packages (from pycaret) (1.4.2)\n",
      "Requirement already satisfied: pyod>=0.9.8 in c:\\users\\arist\\anaconda3\\lib\\site-packages (from pycaret) (1.0.7)\n",
      "Requirement already satisfied: ipython>=5.5.0 in c:\\users\\arist\\anaconda3\\lib\\site-packages (from pycaret) (8.2.0)\n",
      "Requirement already satisfied: numba>=0.55.0 in c:\\users\\arist\\anaconda3\\lib\\site-packages (from pycaret) (0.55.1)\n",
      "Requirement already satisfied: nbformat>=4.2.0 in c:\\users\\arist\\anaconda3\\lib\\site-packages (from pycaret) (5.3.0)\n",
      "Requirement already satisfied: kaleido>=0.2.1 in c:\\users\\arist\\anaconda3\\lib\\site-packages (from pycaret) (0.2.1)\n",
      "Requirement already satisfied: scikit-plot>=0.3.7 in c:\\users\\arist\\anaconda3\\lib\\site-packages (from pycaret) (0.3.7)\n",
      "Requirement already satisfied: imbalanced-learn>=0.8.1 in c:\\users\\arist\\anaconda3\\lib\\site-packages (from pycaret) (0.10.1)\n",
      "Requirement already satisfied: scipy<2.0.0 in c:\\users\\arist\\anaconda3\\lib\\site-packages (from pycaret) (1.7.3)\n",
      "Requirement already satisfied: deprecation>=2.1.0 in c:\\users\\arist\\anaconda3\\lib\\site-packages (from pycaret) (2.1.0)\n",
      "Requirement already satisfied: matplotlib>=3.3.0 in c:\\users\\arist\\anaconda3\\lib\\site-packages (from pycaret) (3.5.1)\n",
      "Requirement already satisfied: jinja2>=1.2 in c:\\users\\arist\\anaconda3\\lib\\site-packages (from pycaret) (2.11.3)\n",
      "Requirement already satisfied: plotly>=5.0.0 in c:\\users\\arist\\anaconda3\\lib\\site-packages (from pycaret) (5.6.0)\n",
      "Requirement already satisfied: cloudpickle in c:\\users\\arist\\anaconda3\\lib\\site-packages (from pycaret) (2.0.0)\n",
      "Requirement already satisfied: sktime>=0.15.0 in c:\\users\\arist\\anaconda3\\lib\\site-packages (from pycaret) (0.16.1)\n",
      "Requirement already satisfied: plotly-resampler>=0.7.2.2 in c:\\users\\arist\\anaconda3\\lib\\site-packages (from pycaret) (0.8.4rc1)\n",
      "Requirement already satisfied: category-encoders>=2.4.0 in c:\\users\\arist\\anaconda3\\lib\\site-packages (from pycaret) (2.6.0)\n",
      "Requirement already satisfied: numpy<1.25,>=1.21 in c:\\users\\arist\\anaconda3\\lib\\site-packages (from pycaret) (1.21.5)\n",
      "Requirement already satisfied: tbats>=1.1.0 in c:\\users\\arist\\anaconda3\\lib\\site-packages (from pycaret) (1.1.2)\n",
      "Requirement already satisfied: importlib-metadata>=4.12.0 in c:\\users\\arist\\anaconda3\\lib\\site-packages (from pycaret) (6.0.0)\n",
      "Requirement already satisfied: patsy>=0.5.1 in c:\\users\\arist\\anaconda3\\lib\\site-packages (from category-encoders>=2.4.0->pycaret) (0.5.2)\n",
      "Requirement already satisfied: packaging in c:\\users\\arist\\anaconda3\\lib\\site-packages (from deprecation>=2.1.0->pycaret) (21.3)\n",
      "Requirement already satisfied: threadpoolctl>=2.0.0 in c:\\users\\arist\\anaconda3\\lib\\site-packages (from imbalanced-learn>=0.8.1->pycaret) (2.2.0)\n",
      "Requirement already satisfied: zipp>=0.5 in c:\\users\\arist\\anaconda3\\lib\\site-packages (from importlib-metadata>=4.12.0->pycaret) (3.7.0)\n",
      "Requirement already satisfied: pickleshare in c:\\users\\arist\\anaconda3\\lib\\site-packages (from ipython>=5.5.0->pycaret) (0.7.5)\n",
      "Requirement already satisfied: pygments>=2.4.0 in c:\\users\\arist\\anaconda3\\lib\\site-packages (from ipython>=5.5.0->pycaret) (2.11.2)\n",
      "Requirement already satisfied: colorama in c:\\users\\arist\\anaconda3\\lib\\site-packages (from ipython>=5.5.0->pycaret) (0.4.4)\n",
      "Requirement already satisfied: prompt-toolkit!=3.0.0,!=3.0.1,<3.1.0,>=2.0.0 in c:\\users\\arist\\anaconda3\\lib\\site-packages (from ipython>=5.5.0->pycaret) (3.0.20)\n",
      "Requirement already satisfied: jedi>=0.16 in c:\\users\\arist\\anaconda3\\lib\\site-packages (from ipython>=5.5.0->pycaret) (0.18.1)\n",
      "Requirement already satisfied: matplotlib-inline in c:\\users\\arist\\anaconda3\\lib\\site-packages (from ipython>=5.5.0->pycaret) (0.1.2)\n",
      "Requirement already satisfied: backcall in c:\\users\\arist\\anaconda3\\lib\\site-packages (from ipython>=5.5.0->pycaret) (0.2.0)\n",
      "Requirement already satisfied: traitlets>=5 in c:\\users\\arist\\anaconda3\\lib\\site-packages (from ipython>=5.5.0->pycaret) (5.1.1)\n",
      "Requirement already satisfied: decorator in c:\\users\\arist\\anaconda3\\lib\\site-packages (from ipython>=5.5.0->pycaret) (5.1.1)\n",
      "Requirement already satisfied: stack-data in c:\\users\\arist\\anaconda3\\lib\\site-packages (from ipython>=5.5.0->pycaret) (0.2.0)\n",
      "Requirement already satisfied: setuptools>=18.5 in c:\\users\\arist\\anaconda3\\lib\\site-packages (from ipython>=5.5.0->pycaret) (61.2.0)\n",
      "Requirement already satisfied: widgetsnbextension~=3.5.0 in c:\\users\\arist\\anaconda3\\lib\\site-packages (from ipywidgets>=7.6.5->pycaret) (3.5.2)\n",
      "Requirement already satisfied: ipykernel>=4.5.1 in c:\\users\\arist\\anaconda3\\lib\\site-packages (from ipywidgets>=7.6.5->pycaret) (6.9.1)\n",
      "Requirement already satisfied: ipython-genutils~=0.2.0 in c:\\users\\arist\\anaconda3\\lib\\site-packages (from ipywidgets>=7.6.5->pycaret) (0.2.0)\n",
      "Requirement already satisfied: jupyterlab-widgets>=1.0.0 in c:\\users\\arist\\anaconda3\\lib\\site-packages (from ipywidgets>=7.6.5->pycaret) (1.0.0)\n",
      "Requirement already satisfied: nest-asyncio in c:\\users\\arist\\anaconda3\\lib\\site-packages (from ipykernel>=4.5.1->ipywidgets>=7.6.5->pycaret) (1.5.5)\n",
      "Requirement already satisfied: debugpy<2.0,>=1.0.0 in c:\\users\\arist\\anaconda3\\lib\\site-packages (from ipykernel>=4.5.1->ipywidgets>=7.6.5->pycaret) (1.5.1)\n",
      "Requirement already satisfied: tornado<7.0,>=4.2 in c:\\users\\arist\\anaconda3\\lib\\site-packages (from ipykernel>=4.5.1->ipywidgets>=7.6.5->pycaret) (6.1)\n",
      "Requirement already satisfied: jupyter-client<8.0 in c:\\users\\arist\\anaconda3\\lib\\site-packages (from ipykernel>=4.5.1->ipywidgets>=7.6.5->pycaret) (6.1.12)\n",
      "Requirement already satisfied: parso<0.9.0,>=0.8.0 in c:\\users\\arist\\anaconda3\\lib\\site-packages (from jedi>=0.16->ipython>=5.5.0->pycaret) (0.8.3)\n",
      "Requirement already satisfied: jupyter-core>=4.6.0 in c:\\users\\arist\\anaconda3\\lib\\site-packages (from jupyter-client<8.0->ipykernel>=4.5.1->ipywidgets>=7.6.5->pycaret) (4.9.2)\n",
      "Requirement already satisfied: python-dateutil>=2.1 in c:\\users\\arist\\anaconda3\\lib\\site-packages (from jupyter-client<8.0->ipykernel>=4.5.1->ipywidgets>=7.6.5->pycaret) (2.8.2)\n",
      "Requirement already satisfied: pyzmq>=13 in c:\\users\\arist\\anaconda3\\lib\\site-packages (from jupyter-client<8.0->ipykernel>=4.5.1->ipywidgets>=7.6.5->pycaret) (22.3.0)\n",
      "Requirement already satisfied: pywin32>=1.0 in c:\\users\\arist\\anaconda3\\lib\\site-packages (from jupyter-core>=4.6.0->jupyter-client<8.0->ipykernel>=4.5.1->ipywidgets>=7.6.5->pycaret) (302)\n",
      "Requirement already satisfied: wheel in c:\\users\\arist\\anaconda3\\lib\\site-packages (from lightgbm>=3.0.0->pycaret) (0.37.1)\n",
      "Requirement already satisfied: kiwisolver>=1.0.1 in c:\\users\\arist\\anaconda3\\lib\\site-packages (from matplotlib>=3.3.0->pycaret) (1.3.2)\n",
      "Requirement already satisfied: cycler>=0.10 in c:\\users\\arist\\anaconda3\\lib\\site-packages (from matplotlib>=3.3.0->pycaret) (0.11.0)\n",
      "Requirement already satisfied: pyparsing>=2.2.1 in c:\\users\\arist\\anaconda3\\lib\\site-packages (from matplotlib>=3.3.0->pycaret) (3.0.4)\n",
      "Requirement already satisfied: fonttools>=4.22.0 in c:\\users\\arist\\anaconda3\\lib\\site-packages (from matplotlib>=3.3.0->pycaret) (4.25.0)\n",
      "Requirement already satisfied: pillow>=6.2.0 in c:\\users\\arist\\anaconda3\\lib\\site-packages (from matplotlib>=3.3.0->pycaret) (9.0.1)\n",
      "Requirement already satisfied: fastjsonschema in c:\\users\\arist\\anaconda3\\lib\\site-packages (from nbformat>=4.2.0->pycaret) (2.15.1)\n",
      "Requirement already satisfied: jsonschema>=2.6 in c:\\users\\arist\\anaconda3\\lib\\site-packages (from nbformat>=4.2.0->pycaret) (4.4.0)\n",
      "Requirement already satisfied: attrs>=17.4.0 in c:\\users\\arist\\anaconda3\\lib\\site-packages (from jsonschema>=2.6->nbformat>=4.2.0->pycaret) (21.4.0)\n",
      "Requirement already satisfied: pyrsistent!=0.17.0,!=0.17.1,!=0.17.2,>=0.14.0 in c:\\users\\arist\\anaconda3\\lib\\site-packages (from jsonschema>=2.6->nbformat>=4.2.0->pycaret) (0.18.0)\n",
      "Requirement already satisfied: llvmlite<0.39,>=0.38.0rc1 in c:\\users\\arist\\anaconda3\\lib\\site-packages (from numba>=0.55.0->pycaret) (0.38.0)\n",
      "Requirement already satisfied: pytz>=2020.1 in c:\\users\\arist\\anaconda3\\lib\\site-packages (from pandas<1.6.0,>=1.3.0->pycaret) (2021.3)\n",
      "Requirement already satisfied: six in c:\\users\\arist\\anaconda3\\lib\\site-packages (from patsy>=0.5.1->category-encoders>=2.4.0->pycaret) (1.16.0)\n",
      "Requirement already satisfied: tenacity>=6.2.0 in c:\\users\\arist\\anaconda3\\lib\\site-packages (from plotly>=5.0.0->pycaret) (8.0.1)\n",
      "Requirement already satisfied: trace-updater>=0.0.8 in c:\\users\\arist\\anaconda3\\lib\\site-packages (from plotly-resampler>=0.7.2.2->pycaret) (0.0.9)\n",
      "Requirement already satisfied: dash<3.0.0,>=2.2.0 in c:\\users\\arist\\anaconda3\\lib\\site-packages (from plotly-resampler>=0.7.2.2->pycaret) (2.8.1)\n",
      "Requirement already satisfied: Flask-Cors<4.0.0,>=3.0.10 in c:\\users\\arist\\anaconda3\\lib\\site-packages (from plotly-resampler>=0.7.2.2->pycaret) (3.0.10)\n",
      "Requirement already satisfied: Werkzeug<=2.1.2 in c:\\users\\arist\\anaconda3\\lib\\site-packages (from plotly-resampler>=0.7.2.2->pycaret) (2.0.3)\n",
      "Requirement already satisfied: orjson<4.0.0,>=3.8.0 in c:\\users\\arist\\anaconda3\\lib\\site-packages (from plotly-resampler>=0.7.2.2->pycaret) (3.8.7)\n",
      "Requirement already satisfied: jupyter-dash>=0.4.2 in c:\\users\\arist\\anaconda3\\lib\\site-packages (from plotly-resampler>=0.7.2.2->pycaret) (0.4.2)\n",
      "Requirement already satisfied: Flask>=1.0.4 in c:\\users\\arist\\anaconda3\\lib\\site-packages (from dash<3.0.0,>=2.2.0->plotly-resampler>=0.7.2.2->pycaret) (1.1.2)\n",
      "Requirement already satisfied: dash-html-components==2.0.0 in c:\\users\\arist\\anaconda3\\lib\\site-packages (from dash<3.0.0,>=2.2.0->plotly-resampler>=0.7.2.2->pycaret) (2.0.0)\n",
      "Requirement already satisfied: dash-table==5.0.0 in c:\\users\\arist\\anaconda3\\lib\\site-packages (from dash<3.0.0,>=2.2.0->plotly-resampler>=0.7.2.2->pycaret) (5.0.0)\n",
      "Requirement already satisfied: dash-core-components==2.0.0 in c:\\users\\arist\\anaconda3\\lib\\site-packages (from dash<3.0.0,>=2.2.0->plotly-resampler>=0.7.2.2->pycaret) (2.0.0)\n",
      "Requirement already satisfied: itsdangerous>=0.24 in c:\\users\\arist\\anaconda3\\lib\\site-packages (from Flask>=1.0.4->dash<3.0.0,>=2.2.0->plotly-resampler>=0.7.2.2->pycaret) (2.0.1)\n",
      "Requirement already satisfied: click>=5.1 in c:\\users\\arist\\anaconda3\\lib\\site-packages (from Flask>=1.0.4->dash<3.0.0,>=2.2.0->plotly-resampler>=0.7.2.2->pycaret) (8.0.4)\n",
      "Requirement already satisfied: retrying in c:\\users\\arist\\anaconda3\\lib\\site-packages (from jupyter-dash>=0.4.2->plotly-resampler>=0.7.2.2->pycaret) (1.3.4)\n",
      "Requirement already satisfied: ansi2html in c:\\users\\arist\\anaconda3\\lib\\site-packages (from jupyter-dash>=0.4.2->plotly-resampler>=0.7.2.2->pycaret) (1.9.0rc1)\n",
      "Requirement already satisfied: urllib3 in c:\\users\\arist\\anaconda3\\lib\\site-packages (from pmdarima!=1.8.1,<3.0.0,>=1.8.0->pycaret) (1.26.9)\n",
      "Requirement already satisfied: Cython!=0.29.18,!=0.29.31,>=0.29 in c:\\users\\arist\\anaconda3\\lib\\site-packages (from pmdarima!=1.8.1,<3.0.0,>=1.8.0->pycaret) (0.29.28)\n",
      "Requirement already satisfied: wcwidth in c:\\users\\arist\\anaconda3\\lib\\site-packages (from prompt-toolkit!=3.0.0,!=3.0.1,<3.1.0,>=2.0.0->ipython>=5.5.0->pycaret) (0.2.5)\n",
      "Requirement already satisfied: idna<4,>=2.5 in c:\\users\\arist\\anaconda3\\lib\\site-packages (from requests>=2.27.1->pycaret) (3.3)\n",
      "Requirement already satisfied: certifi>=2017.4.17 in c:\\users\\arist\\anaconda3\\lib\\site-packages (from requests>=2.27.1->pycaret) (2021.10.8)\n",
      "Requirement already satisfied: charset-normalizer~=2.0.0 in c:\\users\\arist\\anaconda3\\lib\\site-packages (from requests>=2.27.1->pycaret) (2.0.4)\n",
      "Requirement already satisfied: deprecated>=1.2.13 in c:\\users\\arist\\anaconda3\\lib\\site-packages (from sktime>=0.15.0->pycaret) (1.2.13)\n",
      "Requirement already satisfied: wrapt<2,>=1.10 in c:\\users\\arist\\anaconda3\\lib\\site-packages (from deprecated>=1.2.13->sktime>=0.15.0->pycaret) (1.12.1)\n",
      "Requirement already satisfied: notebook>=4.4.1 in c:\\users\\arist\\anaconda3\\lib\\site-packages (from widgetsnbextension~=3.5.0->ipywidgets>=7.6.5->pycaret) (6.4.8)\n",
      "Requirement already satisfied: Send2Trash>=1.8.0 in c:\\users\\arist\\anaconda3\\lib\\site-packages (from notebook>=4.4.1->widgetsnbextension~=3.5.0->ipywidgets>=7.6.5->pycaret) (1.8.0)\n",
      "Requirement already satisfied: prometheus-client in c:\\users\\arist\\anaconda3\\lib\\site-packages (from notebook>=4.4.1->widgetsnbextension~=3.5.0->ipywidgets>=7.6.5->pycaret) (0.13.1)\n",
      "Requirement already satisfied: terminado>=0.8.3 in c:\\users\\arist\\anaconda3\\lib\\site-packages (from notebook>=4.4.1->widgetsnbextension~=3.5.0->ipywidgets>=7.6.5->pycaret) (0.13.1)\n",
      "Requirement already satisfied: argon2-cffi in c:\\users\\arist\\anaconda3\\lib\\site-packages (from notebook>=4.4.1->widgetsnbextension~=3.5.0->ipywidgets>=7.6.5->pycaret) (21.3.0)\n",
      "Requirement already satisfied: nbconvert in c:\\users\\arist\\anaconda3\\lib\\site-packages (from notebook>=4.4.1->widgetsnbextension~=3.5.0->ipywidgets>=7.6.5->pycaret) (6.4.4)\n",
      "Requirement already satisfied: pywinpty>=1.1.0 in c:\\users\\arist\\anaconda3\\lib\\site-packages (from terminado>=0.8.3->notebook>=4.4.1->widgetsnbextension~=3.5.0->ipywidgets>=7.6.5->pycaret) (2.0.2)\n",
      "Requirement already satisfied: argon2-cffi-bindings in c:\\users\\arist\\anaconda3\\lib\\site-packages (from argon2-cffi->notebook>=4.4.1->widgetsnbextension~=3.5.0->ipywidgets>=7.6.5->pycaret) (21.2.0)\n",
      "Requirement already satisfied: cffi>=1.0.1 in c:\\users\\arist\\anaconda3\\lib\\site-packages (from argon2-cffi-bindings->argon2-cffi->notebook>=4.4.1->widgetsnbextension~=3.5.0->ipywidgets>=7.6.5->pycaret) (1.15.0)\n",
      "Requirement already satisfied: pycparser in c:\\users\\arist\\anaconda3\\lib\\site-packages (from cffi>=1.0.1->argon2-cffi-bindings->argon2-cffi->notebook>=4.4.1->widgetsnbextension~=3.5.0->ipywidgets>=7.6.5->pycaret) (2.21)\n",
      "Requirement already satisfied: entrypoints>=0.2.2 in c:\\users\\arist\\anaconda3\\lib\\site-packages (from nbconvert->notebook>=4.4.1->widgetsnbextension~=3.5.0->ipywidgets>=7.6.5->pycaret) (0.4)\n",
      "Requirement already satisfied: nbclient<0.6.0,>=0.5.0 in c:\\users\\arist\\anaconda3\\lib\\site-packages (from nbconvert->notebook>=4.4.1->widgetsnbextension~=3.5.0->ipywidgets>=7.6.5->pycaret) (0.5.13)\n",
      "Requirement already satisfied: testpath in c:\\users\\arist\\anaconda3\\lib\\site-packages (from nbconvert->notebook>=4.4.1->widgetsnbextension~=3.5.0->ipywidgets>=7.6.5->pycaret) (0.5.0)\n",
      "Requirement already satisfied: beautifulsoup4 in c:\\users\\arist\\anaconda3\\lib\\site-packages (from nbconvert->notebook>=4.4.1->widgetsnbextension~=3.5.0->ipywidgets>=7.6.5->pycaret) (4.11.1)\n",
      "Requirement already satisfied: mistune<2,>=0.8.1 in c:\\users\\arist\\anaconda3\\lib\\site-packages (from nbconvert->notebook>=4.4.1->widgetsnbextension~=3.5.0->ipywidgets>=7.6.5->pycaret) (0.8.4)\n",
      "Requirement already satisfied: jupyterlab-pygments in c:\\users\\arist\\anaconda3\\lib\\site-packages (from nbconvert->notebook>=4.4.1->widgetsnbextension~=3.5.0->ipywidgets>=7.6.5->pycaret) (0.1.2)\n",
      "Requirement already satisfied: bleach in c:\\users\\arist\\anaconda3\\lib\\site-packages (from nbconvert->notebook>=4.4.1->widgetsnbextension~=3.5.0->ipywidgets>=7.6.5->pycaret) (4.1.0)\n",
      "Requirement already satisfied: defusedxml in c:\\users\\arist\\anaconda3\\lib\\site-packages (from nbconvert->notebook>=4.4.1->widgetsnbextension~=3.5.0->ipywidgets>=7.6.5->pycaret) (0.7.1)\n",
      "Requirement already satisfied: pandocfilters>=1.4.1 in c:\\users\\arist\\anaconda3\\lib\\site-packages (from nbconvert->notebook>=4.4.1->widgetsnbextension~=3.5.0->ipywidgets>=7.6.5->pycaret) (1.5.0)\n",
      "Requirement already satisfied: soupsieve>1.2 in c:\\users\\arist\\anaconda3\\lib\\site-packages (from beautifulsoup4->nbconvert->notebook>=4.4.1->widgetsnbextension~=3.5.0->ipywidgets>=7.6.5->pycaret) (2.3.1)\n",
      "Requirement already satisfied: webencodings in c:\\users\\arist\\anaconda3\\lib\\site-packages (from bleach->nbconvert->notebook>=4.4.1->widgetsnbextension~=3.5.0->ipywidgets>=7.6.5->pycaret) (0.5.1)\n",
      "Requirement already satisfied: asttokens in c:\\users\\arist\\anaconda3\\lib\\site-packages (from stack-data->ipython>=5.5.0->pycaret) (2.0.5)\n",
      "Requirement already satisfied: executing in c:\\users\\arist\\anaconda3\\lib\\site-packages (from stack-data->ipython>=5.5.0->pycaret) (0.8.3)\n",
      "Requirement already satisfied: pure-eval in c:\\users\\arist\\anaconda3\\lib\\site-packages (from stack-data->ipython>=5.5.0->pycaret) (0.2.2)\n"
     ]
    }
   ],
   "source": [
    "# !pip install pycaret"
   ]
  },
  {
   "cell_type": "code",
   "execution_count": 160,
   "id": "da84aa99-71df-46b9-bc74-3a7c0c987be3",
   "metadata": {},
   "outputs": [],
   "source": [
    "import pandas as pd\n",
    "import seaborn as sns\n",
    "import matplotlib.pyplot as plt"
   ]
  },
  {
   "cell_type": "markdown",
   "id": "093647e2-e899-4b3e-b84a-4c11bf16414b",
   "metadata": {},
   "source": [
    "# Read in initial Fake news dataset"
   ]
  },
  {
   "cell_type": "code",
   "execution_count": 150,
   "id": "5b423239-2925-4790-8d19-5bd1c8545242",
   "metadata": {},
   "outputs": [],
   "source": [
    "fake_news = pd.read_csv(\"Fake.csv\")\n",
    "true_news = pd.read_csv(\"True.csv\")"
   ]
  },
  {
   "cell_type": "code",
   "execution_count": 151,
   "id": "a4f392f0-7fc0-426f-9ec5-aab56b21d343",
   "metadata": {},
   "outputs": [
    {
     "data": {
      "text/html": [
       "<div>\n",
       "<style scoped>\n",
       "    .dataframe tbody tr th:only-of-type {\n",
       "        vertical-align: middle;\n",
       "    }\n",
       "\n",
       "    .dataframe tbody tr th {\n",
       "        vertical-align: top;\n",
       "    }\n",
       "\n",
       "    .dataframe thead th {\n",
       "        text-align: right;\n",
       "    }\n",
       "</style>\n",
       "<table border=\"1\" class=\"dataframe\">\n",
       "  <thead>\n",
       "    <tr style=\"text-align: right;\">\n",
       "      <th></th>\n",
       "      <th>title</th>\n",
       "      <th>text</th>\n",
       "      <th>subject</th>\n",
       "      <th>date</th>\n",
       "    </tr>\n",
       "  </thead>\n",
       "  <tbody>\n",
       "    <tr>\n",
       "      <th>0</th>\n",
       "      <td>Donald Trump Sends Out Embarrassing New Year’...</td>\n",
       "      <td>Donald Trump just couldn t wish all Americans ...</td>\n",
       "      <td>News</td>\n",
       "      <td>December 31, 2017</td>\n",
       "    </tr>\n",
       "    <tr>\n",
       "      <th>1</th>\n",
       "      <td>Drunk Bragging Trump Staffer Started Russian ...</td>\n",
       "      <td>House Intelligence Committee Chairman Devin Nu...</td>\n",
       "      <td>News</td>\n",
       "      <td>December 31, 2017</td>\n",
       "    </tr>\n",
       "    <tr>\n",
       "      <th>2</th>\n",
       "      <td>Sheriff David Clarke Becomes An Internet Joke...</td>\n",
       "      <td>On Friday, it was revealed that former Milwauk...</td>\n",
       "      <td>News</td>\n",
       "      <td>December 30, 2017</td>\n",
       "    </tr>\n",
       "    <tr>\n",
       "      <th>3</th>\n",
       "      <td>Trump Is So Obsessed He Even Has Obama’s Name...</td>\n",
       "      <td>On Christmas day, Donald Trump announced that ...</td>\n",
       "      <td>News</td>\n",
       "      <td>December 29, 2017</td>\n",
       "    </tr>\n",
       "    <tr>\n",
       "      <th>4</th>\n",
       "      <td>Pope Francis Just Called Out Donald Trump Dur...</td>\n",
       "      <td>Pope Francis used his annual Christmas Day mes...</td>\n",
       "      <td>News</td>\n",
       "      <td>December 25, 2017</td>\n",
       "    </tr>\n",
       "  </tbody>\n",
       "</table>\n",
       "</div>"
      ],
      "text/plain": [
       "                                               title  \\\n",
       "0   Donald Trump Sends Out Embarrassing New Year’...   \n",
       "1   Drunk Bragging Trump Staffer Started Russian ...   \n",
       "2   Sheriff David Clarke Becomes An Internet Joke...   \n",
       "3   Trump Is So Obsessed He Even Has Obama’s Name...   \n",
       "4   Pope Francis Just Called Out Donald Trump Dur...   \n",
       "\n",
       "                                                text subject  \\\n",
       "0  Donald Trump just couldn t wish all Americans ...    News   \n",
       "1  House Intelligence Committee Chairman Devin Nu...    News   \n",
       "2  On Friday, it was revealed that former Milwauk...    News   \n",
       "3  On Christmas day, Donald Trump announced that ...    News   \n",
       "4  Pope Francis used his annual Christmas Day mes...    News   \n",
       "\n",
       "                date  \n",
       "0  December 31, 2017  \n",
       "1  December 31, 2017  \n",
       "2  December 30, 2017  \n",
       "3  December 29, 2017  \n",
       "4  December 25, 2017  "
      ]
     },
     "execution_count": 151,
     "metadata": {},
     "output_type": "execute_result"
    }
   ],
   "source": [
    "fake_news.head()"
   ]
  },
  {
   "cell_type": "code",
   "execution_count": 152,
   "id": "47c636a6-9308-4464-a96d-c41a4ce02ba3",
   "metadata": {},
   "outputs": [
    {
     "data": {
      "text/html": [
       "<div>\n",
       "<style scoped>\n",
       "    .dataframe tbody tr th:only-of-type {\n",
       "        vertical-align: middle;\n",
       "    }\n",
       "\n",
       "    .dataframe tbody tr th {\n",
       "        vertical-align: top;\n",
       "    }\n",
       "\n",
       "    .dataframe thead th {\n",
       "        text-align: right;\n",
       "    }\n",
       "</style>\n",
       "<table border=\"1\" class=\"dataframe\">\n",
       "  <thead>\n",
       "    <tr style=\"text-align: right;\">\n",
       "      <th></th>\n",
       "      <th>title</th>\n",
       "      <th>text</th>\n",
       "      <th>subject</th>\n",
       "      <th>date</th>\n",
       "    </tr>\n",
       "  </thead>\n",
       "  <tbody>\n",
       "    <tr>\n",
       "      <th>0</th>\n",
       "      <td>As U.S. budget fight looms, Republicans flip t...</td>\n",
       "      <td>WASHINGTON (Reuters) - The head of a conservat...</td>\n",
       "      <td>politicsNews</td>\n",
       "      <td>December 31, 2017</td>\n",
       "    </tr>\n",
       "    <tr>\n",
       "      <th>1</th>\n",
       "      <td>U.S. military to accept transgender recruits o...</td>\n",
       "      <td>WASHINGTON (Reuters) - Transgender people will...</td>\n",
       "      <td>politicsNews</td>\n",
       "      <td>December 29, 2017</td>\n",
       "    </tr>\n",
       "    <tr>\n",
       "      <th>2</th>\n",
       "      <td>Senior U.S. Republican senator: 'Let Mr. Muell...</td>\n",
       "      <td>WASHINGTON (Reuters) - The special counsel inv...</td>\n",
       "      <td>politicsNews</td>\n",
       "      <td>December 31, 2017</td>\n",
       "    </tr>\n",
       "    <tr>\n",
       "      <th>3</th>\n",
       "      <td>FBI Russia probe helped by Australian diplomat...</td>\n",
       "      <td>WASHINGTON (Reuters) - Trump campaign adviser ...</td>\n",
       "      <td>politicsNews</td>\n",
       "      <td>December 30, 2017</td>\n",
       "    </tr>\n",
       "    <tr>\n",
       "      <th>4</th>\n",
       "      <td>Trump wants Postal Service to charge 'much mor...</td>\n",
       "      <td>SEATTLE/WASHINGTON (Reuters) - President Donal...</td>\n",
       "      <td>politicsNews</td>\n",
       "      <td>December 29, 2017</td>\n",
       "    </tr>\n",
       "  </tbody>\n",
       "</table>\n",
       "</div>"
      ],
      "text/plain": [
       "                                               title  \\\n",
       "0  As U.S. budget fight looms, Republicans flip t...   \n",
       "1  U.S. military to accept transgender recruits o...   \n",
       "2  Senior U.S. Republican senator: 'Let Mr. Muell...   \n",
       "3  FBI Russia probe helped by Australian diplomat...   \n",
       "4  Trump wants Postal Service to charge 'much mor...   \n",
       "\n",
       "                                                text       subject  \\\n",
       "0  WASHINGTON (Reuters) - The head of a conservat...  politicsNews   \n",
       "1  WASHINGTON (Reuters) - Transgender people will...  politicsNews   \n",
       "2  WASHINGTON (Reuters) - The special counsel inv...  politicsNews   \n",
       "3  WASHINGTON (Reuters) - Trump campaign adviser ...  politicsNews   \n",
       "4  SEATTLE/WASHINGTON (Reuters) - President Donal...  politicsNews   \n",
       "\n",
       "                 date  \n",
       "0  December 31, 2017   \n",
       "1  December 29, 2017   \n",
       "2  December 31, 2017   \n",
       "3  December 30, 2017   \n",
       "4  December 29, 2017   "
      ]
     },
     "execution_count": 152,
     "metadata": {},
     "output_type": "execute_result"
    }
   ],
   "source": [
    "true_news.head()"
   ]
  },
  {
   "cell_type": "code",
   "execution_count": 153,
   "id": "52957a03-ad2c-4dcd-af17-63baab579016",
   "metadata": {},
   "outputs": [],
   "source": [
    "fake_news.drop_duplicates(inplace=True)\n",
    "true_news.drop_duplicates(inplace=True)"
   ]
  },
  {
   "cell_type": "markdown",
   "id": "21fbaf84-478c-4373-8e8e-8839891532da",
   "metadata": {},
   "source": [
    "## eda"
   ]
  },
  {
   "cell_type": "code",
   "execution_count": 154,
   "id": "8dfab9d4-c7a5-4d35-9dcb-320451c53a8d",
   "metadata": {},
   "outputs": [
    {
     "data": {
      "text/plain": [
       "count            23478\n",
       "unique            1681\n",
       "top       May 10, 2017\n",
       "freq                46\n",
       "Name: date, dtype: object"
      ]
     },
     "execution_count": 154,
     "metadata": {},
     "output_type": "execute_result"
    }
   ],
   "source": [
    "fake_news['date'].describe()"
   ]
  },
  {
   "cell_type": "code",
   "execution_count": 155,
   "id": "9c531e8b-a67c-4cd2-82e8-8f51dfa6b041",
   "metadata": {},
   "outputs": [
    {
     "name": "stdout",
     "output_type": "stream",
     "text": [
      "23478\n"
     ]
    },
    {
     "data": {
      "text/plain": [
       "'January 15, 2016'"
      ]
     },
     "execution_count": 155,
     "metadata": {},
     "output_type": "execute_result"
    }
   ],
   "source": [
    "fake_news['date'][0]\n",
    "print(len(fake_news['date']))\n",
    "fake_news['date'][23478]"
   ]
  },
  {
   "cell_type": "markdown",
   "id": "c7aa328c-06e1-40a7-89b0-6b994c0c05b7",
   "metadata": {},
   "source": [
    "# add classification column, Real(True) news = 0, Fake news = 1"
   ]
  },
  {
   "cell_type": "code",
   "execution_count": 17,
   "id": "d656e54b-7459-41bf-bc4e-458fe148d305",
   "metadata": {},
   "outputs": [],
   "source": [
    "fake_news['is_fake'] = 1\n",
    "true_news['is_fake'] = 0"
   ]
  },
  {
   "cell_type": "code",
   "execution_count": 78,
   "id": "5d6ee752-a1a0-46b0-bdef-699f3808d330",
   "metadata": {},
   "outputs": [
    {
     "data": {
      "text/html": [
       "<div>\n",
       "<style scoped>\n",
       "    .dataframe tbody tr th:only-of-type {\n",
       "        vertical-align: middle;\n",
       "    }\n",
       "\n",
       "    .dataframe tbody tr th {\n",
       "        vertical-align: top;\n",
       "    }\n",
       "\n",
       "    .dataframe thead th {\n",
       "        text-align: right;\n",
       "    }\n",
       "</style>\n",
       "<table border=\"1\" class=\"dataframe\">\n",
       "  <thead>\n",
       "    <tr style=\"text-align: right;\">\n",
       "      <th></th>\n",
       "      <th>title</th>\n",
       "      <th>text</th>\n",
       "      <th>subject</th>\n",
       "      <th>date</th>\n",
       "      <th>is_fake</th>\n",
       "    </tr>\n",
       "  </thead>\n",
       "  <tbody>\n",
       "    <tr>\n",
       "      <th>0</th>\n",
       "      <td>Donald Trump Sends Out Embarrassing New Year’...</td>\n",
       "      <td>Donald Trump just couldn t wish all Americans ...</td>\n",
       "      <td>News</td>\n",
       "      <td>December 31, 2017</td>\n",
       "      <td>1</td>\n",
       "    </tr>\n",
       "    <tr>\n",
       "      <th>1</th>\n",
       "      <td>Drunk Bragging Trump Staffer Started Russian ...</td>\n",
       "      <td>House Intelligence Committee Chairman Devin Nu...</td>\n",
       "      <td>News</td>\n",
       "      <td>December 31, 2017</td>\n",
       "      <td>1</td>\n",
       "    </tr>\n",
       "    <tr>\n",
       "      <th>2</th>\n",
       "      <td>Sheriff David Clarke Becomes An Internet Joke...</td>\n",
       "      <td>On Friday, it was revealed that former Milwauk...</td>\n",
       "      <td>News</td>\n",
       "      <td>December 30, 2017</td>\n",
       "      <td>1</td>\n",
       "    </tr>\n",
       "    <tr>\n",
       "      <th>3</th>\n",
       "      <td>Trump Is So Obsessed He Even Has Obama’s Name...</td>\n",
       "      <td>On Christmas day, Donald Trump announced that ...</td>\n",
       "      <td>News</td>\n",
       "      <td>December 29, 2017</td>\n",
       "      <td>1</td>\n",
       "    </tr>\n",
       "    <tr>\n",
       "      <th>4</th>\n",
       "      <td>Pope Francis Just Called Out Donald Trump Dur...</td>\n",
       "      <td>Pope Francis used his annual Christmas Day mes...</td>\n",
       "      <td>News</td>\n",
       "      <td>December 25, 2017</td>\n",
       "      <td>1</td>\n",
       "    </tr>\n",
       "    <tr>\n",
       "      <th>...</th>\n",
       "      <td>...</td>\n",
       "      <td>...</td>\n",
       "      <td>...</td>\n",
       "      <td>...</td>\n",
       "      <td>...</td>\n",
       "    </tr>\n",
       "    <tr>\n",
       "      <th>44684</th>\n",
       "      <td>'Fully committed' NATO backs new U.S. approach...</td>\n",
       "      <td>BRUSSELS (Reuters) - NATO allies on Tuesday we...</td>\n",
       "      <td>worldnews</td>\n",
       "      <td>August 22, 2017</td>\n",
       "      <td>0</td>\n",
       "    </tr>\n",
       "    <tr>\n",
       "      <th>44685</th>\n",
       "      <td>LexisNexis withdrew two products from Chinese ...</td>\n",
       "      <td>LONDON (Reuters) - LexisNexis, a provider of l...</td>\n",
       "      <td>worldnews</td>\n",
       "      <td>August 22, 2017</td>\n",
       "      <td>0</td>\n",
       "    </tr>\n",
       "    <tr>\n",
       "      <th>44686</th>\n",
       "      <td>Minsk cultural hub becomes haven from authorities</td>\n",
       "      <td>MINSK (Reuters) - In the shadow of disused Sov...</td>\n",
       "      <td>worldnews</td>\n",
       "      <td>August 22, 2017</td>\n",
       "      <td>0</td>\n",
       "    </tr>\n",
       "    <tr>\n",
       "      <th>44687</th>\n",
       "      <td>Vatican upbeat on possibility of Pope Francis ...</td>\n",
       "      <td>MOSCOW (Reuters) - Vatican Secretary of State ...</td>\n",
       "      <td>worldnews</td>\n",
       "      <td>August 22, 2017</td>\n",
       "      <td>0</td>\n",
       "    </tr>\n",
       "    <tr>\n",
       "      <th>44688</th>\n",
       "      <td>Indonesia to buy $1.14 billion worth of Russia...</td>\n",
       "      <td>JAKARTA (Reuters) - Indonesia will buy 11 Sukh...</td>\n",
       "      <td>worldnews</td>\n",
       "      <td>August 22, 2017</td>\n",
       "      <td>0</td>\n",
       "    </tr>\n",
       "  </tbody>\n",
       "</table>\n",
       "<p>44689 rows × 5 columns</p>\n",
       "</div>"
      ],
      "text/plain": [
       "                                                   title  \\\n",
       "0       Donald Trump Sends Out Embarrassing New Year’...   \n",
       "1       Drunk Bragging Trump Staffer Started Russian ...   \n",
       "2       Sheriff David Clarke Becomes An Internet Joke...   \n",
       "3       Trump Is So Obsessed He Even Has Obama’s Name...   \n",
       "4       Pope Francis Just Called Out Donald Trump Dur...   \n",
       "...                                                  ...   \n",
       "44684  'Fully committed' NATO backs new U.S. approach...   \n",
       "44685  LexisNexis withdrew two products from Chinese ...   \n",
       "44686  Minsk cultural hub becomes haven from authorities   \n",
       "44687  Vatican upbeat on possibility of Pope Francis ...   \n",
       "44688  Indonesia to buy $1.14 billion worth of Russia...   \n",
       "\n",
       "                                                    text    subject  \\\n",
       "0      Donald Trump just couldn t wish all Americans ...       News   \n",
       "1      House Intelligence Committee Chairman Devin Nu...       News   \n",
       "2      On Friday, it was revealed that former Milwauk...       News   \n",
       "3      On Christmas day, Donald Trump announced that ...       News   \n",
       "4      Pope Francis used his annual Christmas Day mes...       News   \n",
       "...                                                  ...        ...   \n",
       "44684  BRUSSELS (Reuters) - NATO allies on Tuesday we...  worldnews   \n",
       "44685  LONDON (Reuters) - LexisNexis, a provider of l...  worldnews   \n",
       "44686  MINSK (Reuters) - In the shadow of disused Sov...  worldnews   \n",
       "44687  MOSCOW (Reuters) - Vatican Secretary of State ...  worldnews   \n",
       "44688  JAKARTA (Reuters) - Indonesia will buy 11 Sukh...  worldnews   \n",
       "\n",
       "                    date  is_fake  \n",
       "0      December 31, 2017        1  \n",
       "1      December 31, 2017        1  \n",
       "2      December 30, 2017        1  \n",
       "3      December 29, 2017        1  \n",
       "4      December 25, 2017        1  \n",
       "...                  ...      ...  \n",
       "44684   August 22, 2017         0  \n",
       "44685   August 22, 2017         0  \n",
       "44686   August 22, 2017         0  \n",
       "44687   August 22, 2017         0  \n",
       "44688   August 22, 2017         0  \n",
       "\n",
       "[44689 rows x 5 columns]"
      ]
     },
     "execution_count": 78,
     "metadata": {},
     "output_type": "execute_result"
    }
   ],
   "source": [
    "news = pd.concat([fake_news, true_news], ignore_index=True)\n",
    "# news.drop(['date', 'subject'], axis = 1, inplace = True)\n",
    "news"
   ]
  },
  {
   "cell_type": "markdown",
   "id": "854eed31-32fb-44f3-90e5-8933c6920378",
   "metadata": {},
   "source": [
    "### true vs false countplot"
   ]
  },
  {
   "cell_type": "code",
   "execution_count": 265,
   "id": "1596243b-4221-4e12-a0c2-fb6c05a41e42",
   "metadata": {},
   "outputs": [
    {
     "data": {
      "image/png": "[encoded data removed]",
      "text/plain": [
       "<Figure size 1296x432 with 1 Axes>"
      ]
     },
     "metadata": {},
     "output_type": "display_data"
    }
   ],
   "source": [
    "# sns.histplot(data=news, x=\"is_fake\", hue='is_fake', discrete=True)\n",
    "g = sns.countplot(data=news, x=\"is_fake\")\n",
    "g.set_title('ISOT Fake News Dataset', size='x-large', fontweight='bold')\n",
    "g.set_xlabel('True (0) vs False (1) Articles', fontweight='bold') \n",
    "g.set_ylabel('Count', fontweight='bold')\n",
    "plt.savefig('ISOT_TrueFalse_count.png')\n",
    "plt.show()\n",
    "plt.close()"
   ]
  },
  {
   "cell_type": "code",
   "execution_count": 210,
   "id": "6cf0419d-4e91-4ab3-9994-e82df209ba81",
   "metadata": {},
   "outputs": [],
   "source": [
    "#clean text for word freq\n",
    "\n",
    "from collections import Counter\n",
    "from nltk.corpus import stopwords\n",
    "from nltk.tokenize import word_tokenize\n",
    "stop_words = set(stopwords.words('english'))\n",
    "# Import stopwords with scikit-learn\n",
    "from sklearn.feature_extraction import text\n",
    "stop = text.ENGLISH_STOP_WORDS\n",
    "\n",
    "additional_stop = [\"s\", \"it\", \"i\", 't', 'this', 'in', 'the']\n",
    "additional_stop = set('s it i t this in the said just like and said. a'.split())\n",
    "\n",
    "fake_news['text_wout_stop'] = fake_news['text'].apply(lambda x: ' '.join([word for word in x.split() if word not in (stop)]))\n",
    "fake_news['text_wout_addstop'] = fake_news['text_wout_stop'].apply(lambda y: ' '.join([w for w in y.split() if w not in (additional_stop)]))\n",
    "\n",
    "common_words = Counter(\" \".join(fake_news[\"text_wout_addstop\"].str.lower()).split()).most_common(25)\n"
   ]
  },
  {
   "cell_type": "markdown",
   "id": "2e5d10c6-8e7b-41dd-8fcd-3c19244d5c48",
   "metadata": {},
   "source": [
    "### most common words ISOT dataset"
   ]
  },
  {
   "cell_type": "code",
   "execution_count": 266,
   "id": "b77d8841-0ccb-4bf9-b384-812ccfac360f",
   "metadata": {},
   "outputs": [
    {
     "data": {
      "image/png": "[encoded data removed]",
      "text/plain": [
       "<Figure size 1296x432 with 1 Axes>"
      ]
     },
     "metadata": {},
     "output_type": "display_data"
    }
   ],
   "source": [
    "word = []\n",
    "count = []\n",
    "for key, value in common_words:\n",
    "    word.append(key)\n",
    "    count.append(value)\n",
    "    \n",
    "# plt.bar(word, count, width=1.0)\n",
    "sns.set(rc={'figure.figsize':(18,6)})\n",
    "sns.barplot(x= word, y=count)\n",
    "plt.title('Most Common Words in ISOT Fake News', size='x-large', fontweight='bold')\n",
    "plt.savefig('ISOT_fake_common.png')\n",
    "plt.show()\n",
    "plt.close()"
   ]
  },
  {
   "cell_type": "code",
   "execution_count": 212,
   "id": "e3576463-69de-45a4-87ff-865c9fc01fc9",
   "metadata": {},
   "outputs": [],
   "source": [
    "true_news['text_wout_stop'] = true_news['text'].apply(lambda x: ' '.join([word for word in x.split() if word not in (stop)]))\n",
    "true_news['text_wout_addstop'] = true_news['text_wout_stop'].apply(lambda y: ' '.join([w for w in y.split() if w not in (additional_stop)]))\n",
    "\n",
    "common_words_true = Counter(\" \".join(true_news[\"text_wout_addstop\"].str.lower()).split()).most_common(25)"
   ]
  },
  {
   "cell_type": "code",
   "execution_count": 267,
   "id": "cc68548e-8c09-482c-ae64-671237584dfc",
   "metadata": {},
   "outputs": [
    {
     "data": {
      "image/png": "[encoded data removed]",
      "text/plain": [
       "<Figure size 1296x432 with 1 Axes>"
      ]
     },
     "metadata": {},
     "output_type": "display_data"
    }
   ],
   "source": [
    "word = []\n",
    "count = []\n",
    "for key, value in common_words_true:\n",
    "    word.append(key)\n",
    "    count.append(value)\n",
    "    \n",
    "# plt.bar(word, count, width=1.0)\n",
    "sns.set(rc={'figure.figsize':(18,6)})\n",
    "sns.barplot(x= word, y=count)\n",
    "plt.title('Most Common Words in ISOT True News', size='x-large', fontweight='bold')\n",
    "plt.savefig('ISOT_true_common.png')\n",
    "plt.show()\n",
    "plt.close()"
   ]
  },
  {
   "cell_type": "code",
   "execution_count": 135,
   "id": "1e5046df-477d-4e3d-be2a-bc6b8bfad5b8",
   "metadata": {
    "collapsed": true,
    "jupyter": {
     "outputs_hidden": true
    },
    "tags": []
   },
   "outputs": [
    {
     "data": {
      "text/html": [
       "<div>\n",
       "<style scoped>\n",
       "    .dataframe tbody tr th:only-of-type {\n",
       "        vertical-align: middle;\n",
       "    }\n",
       "\n",
       "    .dataframe tbody tr th {\n",
       "        vertical-align: top;\n",
       "    }\n",
       "\n",
       "    .dataframe thead th {\n",
       "        text-align: right;\n",
       "    }\n",
       "</style>\n",
       "<table border=\"1\" class=\"dataframe\">\n",
       "  <thead>\n",
       "    <tr style=\"text-align: right;\">\n",
       "      <th></th>\n",
       "      <th>0</th>\n",
       "    </tr>\n",
       "    <tr>\n",
       "      <th>0</th>\n",
       "      <th></th>\n",
       "    </tr>\n",
       "  </thead>\n",
       "  <tbody>\n",
       "    <tr>\n",
       "      <th>the</th>\n",
       "      <td>525499</td>\n",
       "    </tr>\n",
       "    <tr>\n",
       "      <th>to</th>\n",
       "      <td>288545</td>\n",
       "    </tr>\n",
       "    <tr>\n",
       "      <th>of</th>\n",
       "      <td>235142</td>\n",
       "    </tr>\n",
       "    <tr>\n",
       "      <th>and</th>\n",
       "      <td>222323</td>\n",
       "    </tr>\n",
       "    <tr>\n",
       "      <th>a</th>\n",
       "      <td>209585</td>\n",
       "    </tr>\n",
       "    <tr>\n",
       "      <th>...</th>\n",
       "      <td>...</td>\n",
       "    </tr>\n",
       "    <tr>\n",
       "      <th>don</th>\n",
       "      <td>9876</td>\n",
       "    </tr>\n",
       "    <tr>\n",
       "      <th>time</th>\n",
       "      <td>9701</td>\n",
       "    </tr>\n",
       "    <tr>\n",
       "      <th>now</th>\n",
       "      <td>9645</td>\n",
       "    </tr>\n",
       "    <tr>\n",
       "      <th>its</th>\n",
       "      <td>9619</td>\n",
       "    </tr>\n",
       "    <tr>\n",
       "      <th>american</th>\n",
       "      <td>9565</td>\n",
       "    </tr>\n",
       "  </tbody>\n",
       "</table>\n",
       "<p>100 rows × 1 columns</p>\n",
       "</div>"
      ],
      "text/plain": [
       "               0\n",
       "0               \n",
       "the       525499\n",
       "to        288545\n",
       "of        235142\n",
       "and       222323\n",
       "a         209585\n",
       "...          ...\n",
       "don         9876\n",
       "time        9701\n",
       "now         9645\n",
       "its         9619\n",
       "american    9565\n",
       "\n",
       "[100 rows x 1 columns]"
      ]
     },
     "execution_count": 135,
     "metadata": {},
     "output_type": "execute_result"
    }
   ],
   "source": [
    "# fake_counts\n",
    "# df['response'] = df.response.str.replace(\"[^\\w\\s]\", \"\").str.lower()\n",
    "\n",
    "# df['response'] = df['response'].apply(lambda x: [item for item in x.split() if item not in stop])"
   ]
  },
  {
   "cell_type": "markdown",
   "id": "6e4a50eb-e94f-425b-93c1-fea3b1b2db91",
   "metadata": {},
   "source": [
    "## Split dataset for training and testing"
   ]
  },
  {
   "cell_type": "code",
   "execution_count": 104,
   "id": "893afb13-5634-422e-ba9d-92ed8d14b210",
   "metadata": {},
   "outputs": [],
   "source": [
    "from sklearn.model_selection import train_test_split\n",
    "\n",
    "# split the data into training and testing sets\n",
    "X_train, X_test, y_train, y_test = train_test_split(news['text'], news['is_fake'], test_size=0.2, random_state=42)"
   ]
  },
  {
   "cell_type": "code",
   "execution_count": 105,
   "id": "5a9be5f8-35d5-47e3-9821-1c08d50275e3",
   "metadata": {},
   "outputs": [
    {
     "data": {
      "text/plain": [
       "(35751,)"
      ]
     },
     "execution_count": 105,
     "metadata": {},
     "output_type": "execute_result"
    }
   ],
   "source": [
    "X_train.shape\n",
    "y_train.shape"
   ]
  },
  {
   "cell_type": "markdown",
   "id": "97b330d2-95dd-46f4-a9b5-305ba7031e93",
   "metadata": {},
   "source": [
    "## Word Vectorizer, remove stop words, Tf-Idf transformer for storage and representation"
   ]
  },
  {
   "cell_type": "code",
   "execution_count": 106,
   "id": "00f49fa7-5ded-4f47-b733-4c92544d2f88",
   "metadata": {},
   "outputs": [
    {
     "name": "stdout",
     "output_type": "stream",
     "text": [
      "(35751, 111672)\n",
      "(8938, 111672)\n"
     ]
    }
   ],
   "source": [
    "from sklearn.feature_extraction.text import CountVectorizer\n",
    "count_vect = CountVectorizer(stop_words='english')\n",
    "count_transformer = count_vect.fit(X_train)\n",
    "count_transformer\n",
    "X_train_counts = count_transformer.transform(X_train)\n",
    "X_test_counts = count_transformer.transform(X_test)\n",
    "print(X_train_counts.shape)\n",
    "print(X_test_counts.shape)"
   ]
  },
  {
   "cell_type": "code",
   "execution_count": 107,
   "id": "4a58c1db-0b0e-46f4-8414-711ba68b3c8f",
   "metadata": {},
   "outputs": [
    {
     "data": {
      "text/plain": [
       "9883"
      ]
     },
     "execution_count": 107,
     "metadata": {},
     "output_type": "execute_result"
    }
   ],
   "source": [
    "count_vect.vocabulary_.get(u'algorithm')"
   ]
  },
  {
   "cell_type": "code",
   "execution_count": 48,
   "id": "66a6c588-0703-424f-beb8-7f8efd225ead",
   "metadata": {},
   "outputs": [
    {
     "name": "stdout",
     "output_type": "stream",
     "text": [
      "(35751, 111672)\n",
      "(8938, 111672)\n"
     ]
    }
   ],
   "source": [
    "from sklearn.feature_extraction.text import TfidfTransformer\n",
    "tfidf_transformer = TfidfTransformer()\n",
    "X_train_tfidf = tfidf_transformer.fit_transform(X_train_counts)\n",
    "print(X_train_tfidf.shape)\n",
    "X_test_tfidf = tfidf_transformer.fit_transform(X_test_counts)\n",
    "print(X_test_tfidf.shape)"
   ]
  },
  {
   "cell_type": "markdown",
   "id": "7f4462e2-1325-4a55-817a-c9354790a16f",
   "metadata": {},
   "source": [
    "## Multinomial Naive Bayes Model"
   ]
  },
  {
   "cell_type": "code",
   "execution_count": 49,
   "id": "9e4a2eb3-07c6-4785-92d3-f9c921e092b6",
   "metadata": {},
   "outputs": [],
   "source": [
    "from sklearn.naive_bayes import MultinomialNB\n",
    "from sklearn.metrics import accuracy_score"
   ]
  },
  {
   "cell_type": "code",
   "execution_count": 50,
   "id": "24fb0732-e81f-4bca-86ab-24b291520bf1",
   "metadata": {},
   "outputs": [
    {
     "data": {
      "text/plain": [
       "MultinomialNB()"
      ]
     },
     "execution_count": 50,
     "metadata": {},
     "output_type": "execute_result"
    }
   ],
   "source": [
    "# train a Naive Bayes classifier\n",
    "clf = MultinomialNB()\n",
    "clf\n"
   ]
  },
  {
   "cell_type": "code",
   "execution_count": 51,
   "id": "c7c0fda2-d3ce-44f4-83e2-66dbb373cc78",
   "metadata": {},
   "outputs": [
    {
     "data": {
      "text/plain": [
       "MultinomialNB()"
      ]
     },
     "execution_count": 51,
     "metadata": {},
     "output_type": "execute_result"
    }
   ],
   "source": [
    "clf.fit(X_train_tfidf, y_train)"
   ]
  },
  {
   "cell_type": "code",
   "execution_count": 52,
   "id": "7172be10-c927-41cc-92fb-b04181a95fcc",
   "metadata": {},
   "outputs": [],
   "source": [
    "# evaluate the classifier on the test set\n",
    "y_pred = clf.predict(X_test_tfidf)"
   ]
  },
  {
   "cell_type": "markdown",
   "id": "f4b98894-d5bd-4f38-ba8e-473d6c820030",
   "metadata": {},
   "source": [
    "## Accuracy and confusion matrix"
   ]
  },
  {
   "cell_type": "code",
   "execution_count": 53,
   "id": "173bc579-7415-4a75-8746-64b12d159a45",
   "metadata": {},
   "outputs": [
    {
     "name": "stdout",
     "output_type": "stream",
     "text": [
      "Accuracy: 0.938688744685612\n"
     ]
    }
   ],
   "source": [
    "acc = accuracy_score(y_test, y_pred)\n",
    "print(\"Accuracy:\", acc)"
   ]
  },
  {
   "cell_type": "code",
   "execution_count": 54,
   "id": "b810a03f-4c2e-432b-989f-3a6701a7f98a",
   "metadata": {},
   "outputs": [
    {
     "name": "stdout",
     "output_type": "stream",
     "text": [
      "[[3922  278]\n",
      " [ 270 4468]]\n"
     ]
    }
   ],
   "source": [
    "from sklearn.metrics import confusion_matrix\n",
    "\n",
    "cm = confusion_matrix(y_test, y_pred)\n",
    "print(cm)"
   ]
  },
  {
   "cell_type": "code",
   "execution_count": 55,
   "id": "6b55966d-0075-46b6-94fe-e4f5bf7ecda1",
   "metadata": {},
   "outputs": [
    {
     "data": {
      "text/plain": [
       "<AxesSubplot:>"
      ]
     },
     "execution_count": 55,
     "metadata": {},
     "output_type": "execute_result"
    },
    {
     "data": {
      "image/png": "[encoded data removed]",
      "text/plain": [
       "<Figure size 432x288 with 2 Axes>"
      ]
     },
     "metadata": {
      "needs_background": "light"
     },
     "output_type": "display_data"
    }
   ],
   "source": [
    "import seaborn as sns\n",
    "sns.heatmap(cm, annot=True)"
   ]
  },
  {
   "cell_type": "markdown",
   "id": "10aa4675-014a-4795-90da-8613d129555a",
   "metadata": {},
   "source": [
    "## Precision recall f1 and support"
   ]
  },
  {
   "cell_type": "code",
   "execution_count": 56,
   "id": "9660ac61-7e0c-4787-a1e3-e0f109ec9751",
   "metadata": {},
   "outputs": [
    {
     "name": "stdout",
     "output_type": "stream",
     "text": [
      "              precision    recall  f1-score   support\n",
      "\n",
      "        True       0.94      0.93      0.93      4200\n",
      "        Fake       0.94      0.94      0.94      4738\n",
      "\n",
      "    accuracy                           0.94      8938\n",
      "   macro avg       0.94      0.94      0.94      8938\n",
      "weighted avg       0.94      0.94      0.94      8938\n",
      "\n"
     ]
    }
   ],
   "source": [
    "from sklearn.metrics import classification_report\n",
    "\n",
    "# generate classification report\n",
    "target_names = ['True', 'Fake']\n",
    "print(classification_report(y_test, y_pred, target_names=target_names))"
   ]
  },
  {
   "cell_type": "markdown",
   "id": "02ce7a5e-db23-4110-9efa-7d3c01a2b033",
   "metadata": {},
   "source": [
    "# Read WELFake dataset for testing of model\n",
    "### EDA"
   ]
  },
  {
   "cell_type": "code",
   "execution_count": 223,
   "id": "0ddbf545-3909-44a4-84d0-c99892a09d4f",
   "metadata": {},
   "outputs": [],
   "source": [
    "wel_news = pd.read_csv(\"WELFake_Dataset.csv\")"
   ]
  },
  {
   "cell_type": "code",
   "execution_count": 224,
   "id": "e38f4ed2-e0bb-49bc-9181-a212bd4077d6",
   "metadata": {},
   "outputs": [
    {
     "data": {
      "text/plain": [
       "Unnamed: 0      0\n",
       "title         558\n",
       "text           39\n",
       "label           0\n",
       "dtype: int64"
      ]
     },
     "metadata": {},
     "output_type": "display_data"
    },
    {
     "data": {
      "text/html": [
       "<div>\n",
       "<style scoped>\n",
       "    .dataframe tbody tr th:only-of-type {\n",
       "        vertical-align: middle;\n",
       "    }\n",
       "\n",
       "    .dataframe tbody tr th {\n",
       "        vertical-align: top;\n",
       "    }\n",
       "\n",
       "    .dataframe thead th {\n",
       "        text-align: right;\n",
       "    }\n",
       "</style>\n",
       "<table border=\"1\" class=\"dataframe\">\n",
       "  <thead>\n",
       "    <tr style=\"text-align: right;\">\n",
       "      <th></th>\n",
       "      <th>Unnamed: 0</th>\n",
       "      <th>title</th>\n",
       "      <th>text</th>\n",
       "      <th>label</th>\n",
       "    </tr>\n",
       "  </thead>\n",
       "  <tbody>\n",
       "    <tr>\n",
       "      <th>0</th>\n",
       "      <td>0</td>\n",
       "      <td>LAW ENFORCEMENT ON HIGH ALERT Following Threat...</td>\n",
       "      <td>No comment is expected from Barack Obama Membe...</td>\n",
       "      <td>1</td>\n",
       "    </tr>\n",
       "    <tr>\n",
       "      <th>2</th>\n",
       "      <td>2</td>\n",
       "      <td>UNBELIEVABLE! OBAMA’S ATTORNEY GENERAL SAYS MO...</td>\n",
       "      <td>Now, most of the demonstrators gathered last ...</td>\n",
       "      <td>1</td>\n",
       "    </tr>\n",
       "    <tr>\n",
       "      <th>3</th>\n",
       "      <td>3</td>\n",
       "      <td>Bobby Jindal, raised Hindu, uses story of Chri...</td>\n",
       "      <td>A dozen politically active pastors came here f...</td>\n",
       "      <td>0</td>\n",
       "    </tr>\n",
       "    <tr>\n",
       "      <th>4</th>\n",
       "      <td>4</td>\n",
       "      <td>SATAN 2: Russia unvelis an image of its terrif...</td>\n",
       "      <td>The RS-28 Sarmat missile, dubbed Satan 2, will...</td>\n",
       "      <td>1</td>\n",
       "    </tr>\n",
       "    <tr>\n",
       "      <th>5</th>\n",
       "      <td>5</td>\n",
       "      <td>About Time! Christian Group Sues Amazon and SP...</td>\n",
       "      <td>All we can say on this one is it s about time ...</td>\n",
       "      <td>1</td>\n",
       "    </tr>\n",
       "  </tbody>\n",
       "</table>\n",
       "</div>"
      ],
      "text/plain": [
       "   Unnamed: 0                                              title  \\\n",
       "0           0  LAW ENFORCEMENT ON HIGH ALERT Following Threat...   \n",
       "2           2  UNBELIEVABLE! OBAMA’S ATTORNEY GENERAL SAYS MO...   \n",
       "3           3  Bobby Jindal, raised Hindu, uses story of Chri...   \n",
       "4           4  SATAN 2: Russia unvelis an image of its terrif...   \n",
       "5           5  About Time! Christian Group Sues Amazon and SP...   \n",
       "\n",
       "                                                text  label  \n",
       "0  No comment is expected from Barack Obama Membe...      1  \n",
       "2   Now, most of the demonstrators gathered last ...      1  \n",
       "3  A dozen politically active pastors came here f...      0  \n",
       "4  The RS-28 Sarmat missile, dubbed Satan 2, will...      1  \n",
       "5  All we can say on this one is it s about time ...      1  "
      ]
     },
     "execution_count": 224,
     "metadata": {},
     "output_type": "execute_result"
    }
   ],
   "source": [
    "wel_news.head()\n",
    "display(wel_news.isna().sum())\n",
    "wel_news = wel_news.dropna()\n",
    "wel_news.head()"
   ]
  },
  {
   "cell_type": "code",
   "execution_count": 268,
   "id": "2864981b-2ab2-44b8-85aa-a32c23007290",
   "metadata": {},
   "outputs": [
    {
     "data": {
      "image/png": "[encoded data removed]",
      "text/plain": [
       "<Figure size 1296x432 with 1 Axes>"
      ]
     },
     "metadata": {},
     "output_type": "display_data"
    }
   ],
   "source": [
    "# sns.histplot(data=news, x=\"is_fake\", hue='is_fake', discrete=True)\n",
    "g2 = sns.countplot(data=wel_news, x=\"label\")\n",
    "g2.set_title('WEL Fake News Dataset', size='x-large', fontweight='bold')\n",
    "g2.set_xlabel('True (0) vs False (1) Articles', fontweight='bold') \n",
    "g2.set_ylabel('Count', fontweight='bold')\n",
    "plt.savefig('WEL_TrueFalse_count.png')\n",
    "plt.show()\n",
    "plt.close()"
   ]
  },
  {
   "cell_type": "code",
   "execution_count": 273,
   "id": "b2149628-15b1-48e4-8371-0ff2c225b502",
   "metadata": {},
   "outputs": [],
   "source": [
    "wel_true = wel_news.loc[wel_news['label'] == 0]\n",
    "wel_false = wel_news.loc[wel_news['label'] == 1]"
   ]
  },
  {
   "cell_type": "code",
   "execution_count": 274,
   "id": "5a8f14be-1b77-4600-bbbf-2b15a9261eba",
   "metadata": {},
   "outputs": [],
   "source": [
    "# wel_true.reset_index(inplace=True)"
   ]
  },
  {
   "cell_type": "code",
   "execution_count": 275,
   "id": "7f668423-97cd-4057-b4a2-c2121179b747",
   "metadata": {
    "tags": []
   },
   "outputs": [
    {
     "name": "stderr",
     "output_type": "stream",
     "text": [
      "C:\\Users\\arist\\AppData\\Local\\Temp\\ipykernel_40340\\2910303700.py:3: SettingWithCopyWarning: \n",
      "A value is trying to be set on a copy of a slice from a DataFrame.\n",
      "Try using .loc[row_indexer,col_indexer] = value instead\n",
      "\n",
      "See the caveats in the documentation: https://pandas.pydata.org/pandas-docs/stable/user_guide/indexing.html#returning-a-view-versus-a-copy\n",
      "  wel_true['text_wout_stop'] = wel_true['text'].apply(lambda x: ' '.join([word for word in x.split() if word not in (stop)]))\n",
      "C:\\Users\\arist\\AppData\\Local\\Temp\\ipykernel_40340\\2910303700.py:4: SettingWithCopyWarning: \n",
      "A value is trying to be set on a copy of a slice from a DataFrame.\n",
      "Try using .loc[row_indexer,col_indexer] = value instead\n",
      "\n",
      "See the caveats in the documentation: https://pandas.pydata.org/pandas-docs/stable/user_guide/indexing.html#returning-a-view-versus-a-copy\n",
      "  wel_true['text_wout_addstop'] = wel_true['text_wout_stop'].apply(lambda y: ' '.join([w for w in y.split() if w not in (additional_stop)]))\n",
      "C:\\Users\\arist\\AppData\\Local\\Temp\\ipykernel_40340\\2910303700.py:8: SettingWithCopyWarning: \n",
      "A value is trying to be set on a copy of a slice from a DataFrame.\n",
      "Try using .loc[row_indexer,col_indexer] = value instead\n",
      "\n",
      "See the caveats in the documentation: https://pandas.pydata.org/pandas-docs/stable/user_guide/indexing.html#returning-a-view-versus-a-copy\n",
      "  wel_false['text_wout_stop'] = wel_false['text'].apply(lambda x: ' '.join([word for word in x.split() if word not in (stop)]))\n",
      "C:\\Users\\arist\\AppData\\Local\\Temp\\ipykernel_40340\\2910303700.py:9: SettingWithCopyWarning: \n",
      "A value is trying to be set on a copy of a slice from a DataFrame.\n",
      "Try using .loc[row_indexer,col_indexer] = value instead\n",
      "\n",
      "See the caveats in the documentation: https://pandas.pydata.org/pandas-docs/stable/user_guide/indexing.html#returning-a-view-versus-a-copy\n",
      "  wel_false['text_wout_addstop'] = wel_false['text_wout_stop'].apply(lambda y: ' '.join([w for w in y.split() if w not in (additional_stop)]))\n"
     ]
    }
   ],
   "source": [
    "additional_stop = set('s it i t this in the said just like and said. a the --- but \" - a'.split())\n",
    "\n",
    "wel_true['text_wout_stop'] = wel_true['text'].apply(lambda x: ' '.join([word for word in x.split() if word not in (stop)]))\n",
    "wel_true['text_wout_addstop'] = wel_true['text_wout_stop'].apply(lambda y: ' '.join([w for w in y.split() if w not in (additional_stop)]))\n",
    "\n",
    "common_words_true = Counter(\" \".join(wel_true[\"text_wout_addstop\"].str.lower()).split()).most_common(25)\n",
    "\n",
    "wel_false['text_wout_stop'] = wel_false['text'].apply(lambda x: ' '.join([word for word in x.split() if word not in (stop)]))\n",
    "wel_false['text_wout_addstop'] = wel_false['text_wout_stop'].apply(lambda y: ' '.join([w for w in y.split() if w not in (additional_stop)]))\n",
    "\n",
    "common_words_false = Counter(\" \".join(wel_false[\"text_wout_addstop\"].str.lower()).split()).most_common(25)"
   ]
  },
  {
   "cell_type": "code",
   "execution_count": 276,
   "id": "f779b087-a18b-4ab2-865f-532419319648",
   "metadata": {},
   "outputs": [
    {
     "data": {
      "image/png": "[encoded data removed]",
      "text/plain": [
       "<Figure size 1296x432 with 1 Axes>"
      ]
     },
     "metadata": {},
     "output_type": "display_data"
    }
   ],
   "source": [
    "word = []\n",
    "count = []\n",
    "for key, value in common_words_true:\n",
    "    word.append(key)\n",
    "    count.append(value)\n",
    "    \n",
    "# plt.bar(word, count, width=1.0)\n",
    "sns.set(rc={'figure.figsize':(18,6)})\n",
    "sns.barplot(x= word, y=count)\n",
    "plt.title('Most Common Words in WEL True News', size='x-large', fontweight='bold')\n",
    "plt.savefig('WEL_true_common.png')\n",
    "plt.show()\n",
    "plt.close()"
   ]
  },
  {
   "cell_type": "code",
   "execution_count": 272,
   "id": "62093c9a-559d-4b43-b91e-d6273db280a5",
   "metadata": {},
   "outputs": [
    {
     "data": {
      "image/png": "[encoded data removed]",
      "text/plain": [
       "<Figure size 1296x432 with 1 Axes>"
      ]
     },
     "metadata": {},
     "output_type": "display_data"
    }
   ],
   "source": [
    "word = []\n",
    "count = []\n",
    "for key, value in common_words_false:\n",
    "    word.append(key)\n",
    "    count.append(value)\n",
    "    \n",
    "# plt.bar(word, count, width=1.0)\n",
    "sns.set(rc={'figure.figsize':(18,6)})\n",
    "sns.barplot(x= word, y=count)\n",
    "plt.title('Most Common Words in WEL Fake News', size='x-large', fontweight='bold')\n",
    "plt.savefig('WEL_fake_common.png')\n",
    "plt.show()\n",
    "plt.close()"
   ]
  },
  {
   "cell_type": "markdown",
   "id": "ea0594c3-19cf-4206-b563-a6dee2bf1315",
   "metadata": {},
   "source": [
    "## Split into X and y for testing"
   ]
  },
  {
   "cell_type": "code",
   "execution_count": 64,
   "id": "8aba4cbd-6475-4d63-a792-186c30d9ff66",
   "metadata": {},
   "outputs": [
    {
     "data": {
      "text/plain": [
       "0    No comment is expected from Barack Obama Membe...\n",
       "2     Now, most of the demonstrators gathered last ...\n",
       "3    A dozen politically active pastors came here f...\n",
       "4    The RS-28 Sarmat missile, dubbed Satan 2, will...\n",
       "5    All we can say on this one is it s about time ...\n",
       "Name: text, dtype: object"
      ]
     },
     "metadata": {},
     "output_type": "display_data"
    },
    {
     "data": {
      "text/plain": [
       "0    1\n",
       "2    1\n",
       "3    0\n",
       "4    1\n",
       "5    1\n",
       "Name: label, dtype: int64"
      ]
     },
     "metadata": {},
     "output_type": "display_data"
    }
   ],
   "source": [
    "wel_X = wel_news['text']\n",
    "display(wel_X.head())\n",
    "wel_y = wel_news['label']\n",
    "display(wel_y.head())"
   ]
  },
  {
   "cell_type": "markdown",
   "id": "c4332e3f-aa61-4100-9bc4-1ffffb0b90fa",
   "metadata": {},
   "source": [
    "## Use same count vectorizor, tfidf transform, and model from before for predictions (without retraining)"
   ]
  },
  {
   "cell_type": "code",
   "execution_count": 65,
   "id": "8f442550-f123-4a19-b577-6246c33d9bf2",
   "metadata": {},
   "outputs": [],
   "source": [
    "wel_X_counts = count_transformer.transform(wel_X)\n",
    "wel_X_tfidf = tfidf_transformer.fit_transform(wel_X_counts)\n",
    "wel_y_pred = clf.predict(wel_X_tfidf)"
   ]
  },
  {
   "cell_type": "markdown",
   "id": "be944cab-b31f-4d7d-b0ff-b1779daa3b79",
   "metadata": {},
   "source": [
    "## Accuracy, precision, recall f1 and support of previous model on new dataset"
   ]
  },
  {
   "cell_type": "code",
   "execution_count": 66,
   "id": "c9463757-1682-4446-9ef9-fdceb2852162",
   "metadata": {},
   "outputs": [
    {
     "name": "stdout",
     "output_type": "stream",
     "text": [
      "Accuracy: 0.8013335756321903\n"
     ]
    }
   ],
   "source": [
    "acc = accuracy_score(wel_y, wel_y_pred)\n",
    "print(\"Accuracy:\", acc)"
   ]
  },
  {
   "cell_type": "code",
   "execution_count": 67,
   "id": "6c559b4b-57e1-4016-9942-c433d418fcfb",
   "metadata": {},
   "outputs": [
    {
     "name": "stdout",
     "output_type": "stream",
     "text": [
      "              precision    recall  f1-score   support\n",
      "\n",
      "        True       0.86      0.71      0.78     35028\n",
      "        Fake       0.76      0.89      0.82     36509\n",
      "\n",
      "    accuracy                           0.80     71537\n",
      "   macro avg       0.81      0.80      0.80     71537\n",
      "weighted avg       0.81      0.80      0.80     71537\n",
      "\n"
     ]
    }
   ],
   "source": [
    "target_names = ['True', 'Fake']\n",
    "print(classification_report(wel_y, wel_y_pred, target_names=target_names))"
   ]
  },
  {
   "cell_type": "markdown",
   "id": "ffa8d2fa-f5af-4045-88cb-e44ca804a5c8",
   "metadata": {},
   "source": [
    "## Training WEL Fake model on itself for validation"
   ]
  },
  {
   "cell_type": "code",
   "execution_count": 257,
   "id": "1e445c2c-6470-4e77-83f0-ee404131b180",
   "metadata": {},
   "outputs": [
    {
     "name": "stdout",
     "output_type": "stream",
     "text": [
      "(57229, 219661)\n"
     ]
    }
   ],
   "source": [
    "X_train, X_test, y_train, y_test = train_test_split(wel_news['text'], wel_news['label'], test_size=0.2, random_state=42)\n",
    "\n",
    "count_transformer = count_vect.fit(X_train)\n",
    "count_transformer\n",
    "X_train_counts = count_transformer.transform(X_train)\n",
    "X_test_counts = count_transformer.transform(X_test)\n",
    "\n",
    "tfidf_transformer = TfidfTransformer()\n",
    "X_train_tfidf = tfidf_transformer.fit_transform(X_train_counts)\n",
    "print(X_train_tfidf.shape)\n",
    "X_test_tfidf = tfidf_transformer.fit_transform(X_test_counts)"
   ]
  },
  {
   "cell_type": "code",
   "execution_count": 258,
   "id": "fc87b7fb-6eca-4e83-ae9d-91e0955246d0",
   "metadata": {},
   "outputs": [],
   "source": [
    "clf = MultinomialNB()\n",
    "clf.fit(X_train_tfidf, y_train)\n",
    "y_pred = clf.predict(X_test_tfidf)"
   ]
  },
  {
   "cell_type": "code",
   "execution_count": 259,
   "id": "fc79e65a-e689-4c1f-8155-29b4aa762010",
   "metadata": {},
   "outputs": [
    {
     "name": "stdout",
     "output_type": "stream",
     "text": [
      "Accuracy: 0.8683953033268101\n"
     ]
    }
   ],
   "source": [
    "acc = accuracy_score(y_test, y_pred)\n",
    "print(\"Accuracy:\", acc)"
   ]
  },
  {
   "cell_type": "code",
   "execution_count": 260,
   "id": "6a92a555-4ed2-4c9c-8479-5dba1f2c9b2a",
   "metadata": {},
   "outputs": [
    {
     "name": "stdout",
     "output_type": "stream",
     "text": [
      "              precision    recall  f1-score   support\n",
      "\n",
      "        True       0.86      0.87      0.87      7081\n",
      "        Fake       0.87      0.86      0.87      7227\n",
      "\n",
      "    accuracy                           0.87     14308\n",
      "   macro avg       0.87      0.87      0.87     14308\n",
      "weighted avg       0.87      0.87      0.87     14308\n",
      "\n"
     ]
    }
   ],
   "source": [
    "target_names = ['True', 'Fake']\n",
    "print(classification_report(y_test, y_pred, target_names=target_names))"
   ]
  },
  {
   "cell_type": "code",
   "execution_count": null,
   "id": "850ed5c4-3cea-44df-8b01-c68261c3b195",
   "metadata": {},
   "outputs": [],
   "source": []
  },
  {
   "cell_type": "code",
   "execution_count": null,
   "id": "ad1eeee8-86ba-48c8-8cc5-3ec3875dc814",
   "metadata": {},
   "outputs": [],
   "source": []
  }
 ],
 "metadata": {
  "kernelspec": {
   "display_name": "Python 3 (ipykernel)",
   "language": "python",
   "name": "python3"
  },
  "language_info": {
   "codemirror_mode": {
    "name": "ipython",
    "version": 3
   },
   "file_extension": ".py",
   "mimetype": "text/x-python",
   "name": "python",
   "nbconvert_exporter": "python",
   "pygments_lexer": "ipython3",
   "version": "3.9.12"
  }
 },
 "nbformat": 4,
 "nbformat_minor": 5
}
